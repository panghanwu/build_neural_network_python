{
  "nbformat": 4,
  "nbformat_minor": 0,
  "metadata": {
    "colab": {
      "name": "single_neuron.ipynb",
      "provenance": [],
      "authorship_tag": "ABX9TyNIBDpRj0bmgXAjF+MPtQXn",
      "include_colab_link": true
    },
    "kernelspec": {
      "name": "python3",
      "display_name": "Python 3"
    }
  },
  "cells": [
    {
      "cell_type": "markdown",
      "metadata": {
        "id": "view-in-github",
        "colab_type": "text"
      },
      "source": [
        "<a href=\"https://colab.research.google.com/github/panghanwu/build_neural_network_python/blob/main/single_neuron.ipynb\" target=\"_parent\"><img src=\"https://colab.research.google.com/assets/colab-badge.svg\" alt=\"Open In Colab\"/></a>"
      ]
    },
    {
      "cell_type": "code",
      "metadata": {
        "id": "aegA3qTjiz9c",
        "outputId": "e7ee9367-483e-4160-b779-656f4f97d789",
        "colab": {
          "base_uri": "https://localhost:8080/",
          "height": 287
        }
      },
      "source": [
        "import numpy as np\n",
        "\n",
        "# create 10*10 simulated input data\n",
        "x_0 = np.arange(-1.0, 1.0, 0.2)\n",
        "x_1 = np.arange(-1.0, 1.0, 0.2)\n",
        "\n",
        "show_n = 15\n",
        "j = 0\n",
        "for i in range(show_n):\n",
        "  print(str(i) + ': (%.1f , %.1f)' % (x_0[i%10], x_0[j]))\n",
        "  if i%10 == 9:\n",
        "    j += 1"
      ],
      "execution_count": 1,
      "outputs": [
        {
          "output_type": "stream",
          "text": [
            "0: (-1.0 , -1.0)\n",
            "1: (-0.8 , -1.0)\n",
            "2: (-0.6 , -1.0)\n",
            "3: (-0.4 , -1.0)\n",
            "4: (-0.2 , -1.0)\n",
            "5: (-0.0 , -1.0)\n",
            "6: (0.2 , -1.0)\n",
            "7: (0.4 , -1.0)\n",
            "8: (0.6 , -1.0)\n",
            "9: (0.8 , -1.0)\n",
            "10: (-1.0 , -0.8)\n",
            "11: (-0.8 , -0.8)\n",
            "12: (-0.6 , -0.8)\n",
            "13: (-0.4 , -0.8)\n",
            "14: (-0.2 , -0.8)\n"
          ],
          "name": "stdout"
        }
      ]
    },
    {
      "cell_type": "code",
      "metadata": {
        "id": "lpjAjBFIsZ7D",
        "outputId": "c2c50eea-7eab-4f77-b7b4-0d0952f893df",
        "colab": {
          "base_uri": "https://localhost:8080/",
          "height": 287
        }
      },
      "source": [
        "# set weights and biases\n",
        "w_0 = 2.7\n",
        "w_1 = 3.4\n",
        "b = 0.25\n",
        "\n",
        "# create a container for output\n",
        "z = np.zeros(100)\n",
        "\n",
        "# implement single neuron\n",
        "show_n = 15\n",
        "for i in range(10):\n",
        "  for j in range(10):\n",
        "    u = x_0[i]*w_0 + x_0[j]*w_1 + b\n",
        "    z[i*10+j] = 1/(1+np.exp(-u))\n",
        "    if i*10+j < show_n:\n",
        "      print(str(i*10+j) + ': %.6f' % z[i*10 + j])"
      ],
      "execution_count": 2,
      "outputs": [
        {
          "output_type": "stream",
          "text": [
            "0: 0.002872\n",
            "1: 0.005652\n",
            "2: 0.011096\n",
            "3: 0.021668\n",
            "4: 0.041887\n",
            "5: 0.079439\n",
            "6: 0.145542\n",
            "7: 0.251618\n",
            "8: 0.398912\n",
            "9: 0.567093\n",
            "10: 0.004918\n",
            "11: 0.009661\n",
            "12: 0.018891\n",
            "13: 0.036615\n",
            "14: 0.069785\n"
          ],
          "name": "stdout"
        }
      ]
    },
    {
      "cell_type": "code",
      "metadata": {
        "id": "Pah8vAfjtukS",
        "outputId": "df61c63c-7237-4455-b228-770c264bf374",
        "colab": {
          "base_uri": "https://localhost:8080/",
          "height": 310
        }
      },
      "source": [
        "import matplotlib.pyplot as plt\n",
        "\n",
        "plt.imshow(z.reshape(10,10), 'gray', vmin=0.0, vmax=1.0)\n",
        "plt.ylabel('${x_0}$', fontsize=20)\n",
        "plt.xlabel('${x_1}$', fontsize=20)\n",
        "plt.colorbar()"
      ],
      "execution_count": 3,
      "outputs": [
        {
          "output_type": "execute_result",
          "data": {
            "text/plain": [
              "<matplotlib.colorbar.Colorbar at 0x7fcdfb1e3a58>"
            ]
          },
          "metadata": {
            "tags": []
          },
          "execution_count": 3
        },
        {
          "output_type": "display_data",
          "data": {
            "image/png": "[encoded data removed]",
            "text/plain": [
              "<Figure size 432x288 with 2 Axes>"
            ]
          },
          "metadata": {
            "tags": [],
            "needs_background": "light"
          }
        }
      ]
    },
    {
      "cell_type": "code",
      "metadata": {
        "id": "_ecwNPuX0ioD"
      },
      "source": [
        "# pack into a fucntion\n",
        "def signle_neuron(x_0, x_1, w_0=2.0, w_1=3.0, b=0.1):\n",
        "  for i in range(10):\n",
        "    for j in range(10):\n",
        "      u = x_0[i]*w_0 + x_0[j]*w_1 + b\n",
        "      z[i*10+j] = 1/(1+np.exp(-u))\n",
        "  return z"
      ],
      "execution_count": 4,
      "outputs": []
    },
    {
      "cell_type": "code",
      "metadata": {
        "id": "60ciMSWNztDc",
        "outputId": "2c215e34-cabb-4991-af4e-76353263cd6f",
        "colab": {
          "base_uri": "https://localhost:8080/",
          "height": 310
        }
      },
      "source": [
        "# outcome when w_0 is zero\n",
        "plt.imshow(signle_neuron(x_0,x_1,w_0=0.0).reshape(10,10), 'gray', vmin=0.0, vmax=1.0)\n",
        "plt.ylabel('${x_0}$', fontsize=20)\n",
        "plt.xlabel('${x_1}$', fontsize=20)\n",
        "plt.colorbar()"
      ],
      "execution_count": 5,
      "outputs": [
        {
          "output_type": "execute_result",
          "data": {
            "text/plain": [
              "<matplotlib.colorbar.Colorbar at 0x7fcdfac01dd8>"
            ]
          },
          "metadata": {
            "tags": []
          },
          "execution_count": 5
        },
        {
          "output_type": "display_data",
          "data": {
            "image/png": "[encoded data removed]",
            "text/plain": [
              "<Figure size 432x288 with 2 Axes>"
            ]
          },
          "metadata": {
            "tags": [],
            "needs_background": "light"
          }
        }
      ]
    },
    {
      "cell_type": "code",
      "metadata": {
        "id": "dyklmKVD2Fv1",
        "outputId": "e13b8eeb-77b5-4c64-e6d5-275bb5652796",
        "colab": {
          "base_uri": "https://localhost:8080/",
          "height": 310
        }
      },
      "source": [
        "# outcome when w_1 is zero\n",
        "plt.imshow(signle_neuron(x_0,x_1,w_1=0.0).reshape(10,10), 'gray', vmin=0.0, vmax=1.0)\n",
        "plt.ylabel('${x_0}$', fontsize=20)\n",
        "plt.xlabel('${x_1}$', fontsize=20)\n",
        "plt.colorbar()"
      ],
      "execution_count": 6,
      "outputs": [
        {
          "output_type": "execute_result",
          "data": {
            "text/plain": [
              "<matplotlib.colorbar.Colorbar at 0x7fcdfab398d0>"
            ]
          },
          "metadata": {
            "tags": []
          },
          "execution_count": 6
        },
        {
          "output_type": "display_data",
          "data": {
            "image/png": "[encoded data removed]",
            "text/plain": [
              "<Figure size 432x288 with 2 Axes>"
            ]
          },
          "metadata": {
            "tags": [],
            "needs_background": "light"
          }
        }
      ]
    }
  ]
}