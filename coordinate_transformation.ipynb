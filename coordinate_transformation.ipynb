{
  "nbformat": 4,
  "nbformat_minor": 0,
  "metadata": {
    "colab": {
      "name": "coordinate_transformation.ipynb",
      "provenance": [],
      "authorship_tag": "ABX9TyNA9OpvfZQkvM+wMHTyyeuU",
      "include_colab_link": true
    },
    "kernelspec": {
      "name": "python3",
      "display_name": "Python 3"
    }
  },
  "cells": [
    {
      "cell_type": "markdown",
      "metadata": {
        "id": "view-in-github",
        "colab_type": "text"
      },
      "source": [
        "<a href=\"https://colab.research.google.com/github/panghanwu/build_neural_network_python/blob/main/coordinate_transformation.ipynb\" target=\"_parent\"><img src=\"https://colab.research.google.com/assets/colab-badge.svg\" alt=\"Open In Colab\"/></a>"
      ]
    },
    {
      "cell_type": "code",
      "metadata": {
        "id": "3UI4dxJ7OTDQ",
        "outputId": "7ba010cc-8fcb-4bc9-c7df-628d1b46159c",
        "colab": {
          "base_uri": "https://localhost:8080/",
          "height": 136
        }
      },
      "source": [
        "import numpy as np\n",
        "import matplotlib.pyplot as plt\n",
        "\n",
        "# function\n",
        "def proception(x, w, b):\n",
        "  return np.dot(x, w) + b\n",
        "\n",
        "def sigmoid(u):\n",
        "  return 1/(1+np.exp(-u))\n",
        "\n",
        "# 400 input data\n",
        "x_0 = np.arange(-1.0, 1.0, 0.1)\n",
        "x_1 = np.arange(-1.0, 1.0, 0.1)\n",
        "\n",
        "# data = (x_0, x_1, class)\n",
        "data = np.zeros((400,3))\n",
        "for i in range(20):\n",
        "  for j in range(20):\n",
        "    data[i*20+j,0] = x_0[i]\n",
        "    data[i*20+j,1] = x_1[j]\n",
        "    if x_0[i]*x_1[j] > 0:\n",
        "      data[i*20+j,2] = 1\n",
        "    else:\n",
        "      data[i*20+j,2] = 0\n",
        "data"
      ],
      "execution_count": 1,
      "outputs": [
        {
          "output_type": "execute_result",
          "data": {
            "text/plain": [
              "array([[-1. , -1. ,  1. ],\n",
              "       [-1. , -0.9,  1. ],\n",
              "       [-1. , -0.8,  1. ],\n",
              "       ...,\n",
              "       [ 0.9,  0.7,  1. ],\n",
              "       [ 0.9,  0.8,  1. ],\n",
              "       [ 0.9,  0.9,  1. ]])"
            ]
          },
          "metadata": {
            "tags": []
          },
          "execution_count": 1
        }
      ]
    },
    {
      "cell_type": "code",
      "metadata": {
        "id": "if5lRys-OfJy",
        "outputId": "1aadc3b6-ce3b-4d57-b05d-65663dbefdc7",
        "colab": {
          "base_uri": "https://localhost:8080/",
          "height": 374
        }
      },
      "source": [
        "# container of markers\n",
        "triangle_x_0 = []\n",
        "triangle_x_1 = []\n",
        "circle_x_0 = []\n",
        "circle_x_1 = []\n",
        "\n",
        "# classify\n",
        "for i in range(400):\n",
        "  if data[i,2] == 1.:\n",
        "    triangle_x_0.append(data[i,0])\n",
        "    triangle_x_1.append(data[i,1])\n",
        "  else:\n",
        "    circle_x_0.append(data[i,0])\n",
        "    circle_x_1.append(data[i,1])\n",
        "\n",
        "# plot scatter\n",
        "plt.figure(figsize=(6,6))\n",
        "plt.scatter(triangle_x_0, triangle_x_1, marker='^')\n",
        "plt.scatter(circle_x_0, circle_x_1, marker='o')\n",
        "plt.show()"
      ],
      "execution_count": 2,
      "outputs": [
        {
          "output_type": "display_data",
          "data": {
            "image/png": "[encoded data removed]",
            "text/plain": [
              "<Figure size 432x432 with 1 Axes>"
            ]
          },
          "metadata": {
            "tags": [],
            "needs_background": "light"
          }
        }
      ]
    },
    {
      "cell_type": "markdown",
      "metadata": {
        "id": "U6Dp1Bg_Y_cw"
      },
      "source": [
        "# Linear Proception"
      ]
    },
    {
      "cell_type": "code",
      "metadata": {
        "id": "Q1PXKD5RY6Lq",
        "outputId": "1c5db668-7e3e-47a4-c2df-1f4eda712d08",
        "colab": {
          "base_uri": "https://localhost:8080/",
          "height": 374
        }
      },
      "source": [
        "# weights\n",
        "w = np.array([[1.0,3.0], \n",
        "        [3.0,3.0]])\n",
        "b = np.array([0.1,-0.1])\n",
        "\n",
        "data_proception = data.copy()\n",
        "# implement proception \n",
        "for i in range(400):\n",
        "  data_proception[i,0:2] = proception(data[i,0:2], w, b)\n",
        "\n",
        "# container of markers\n",
        "triangle_x_0 = []\n",
        "triangle_x_1 = []\n",
        "circle_x_0 = []\n",
        "circle_x_1 = []\n",
        "\n",
        "# classify\n",
        "for i in range(400):\n",
        "  if data[i,2] == 1.:\n",
        "    triangle_x_0.append(data_proception[i,0])\n",
        "    triangle_x_1.append(data_proception[i,1])\n",
        "  else:\n",
        "    circle_x_0.append(data_proception[i,0])\n",
        "    circle_x_1.append(data_proception[i,1])\n",
        "\n",
        "# plot scatter\n",
        "plt.figure(figsize=(6,6))\n",
        "plt.scatter(triangle_x_0, triangle_x_1, marker='^')\n",
        "plt.scatter(circle_x_0, circle_x_1, marker='o')\n",
        "plt.show()"
      ],
      "execution_count": 3,
      "outputs": [
        {
          "output_type": "display_data",
          "data": {
            "image/png": "[encoded data removed]",
            "text/plain": [
              "<Figure size 432x432 with 1 Axes>"
            ]
          },
          "metadata": {
            "tags": [],
            "needs_background": "light"
          }
        }
      ]
    },
    {
      "cell_type": "markdown",
      "metadata": {
        "id": "XqbqfOsifC0J"
      },
      "source": [
        "# Activation Function"
      ]
    },
    {
      "cell_type": "code",
      "metadata": {
        "id": "a1QxghRYcS6w",
        "outputId": "90079938-220f-4a1c-a4a8-10e55105bcd2",
        "colab": {
          "base_uri": "https://localhost:8080/",
          "height": 374
        }
      },
      "source": [
        "data_activation = data_proception.copy()\n",
        "# implement activation\n",
        "for i in range(400):\n",
        "  data_activation[i,0:2] = sigmoid(data_proception[i,0:2])\n",
        "  # print(str(i) + ': (%.6f, %.6f)' % (data[i,0], data[i,1]))\n",
        "\n",
        "# container of markers\n",
        "triangle_x_0 = []\n",
        "triangle_x_1 = []\n",
        "circle_x_0 = []\n",
        "circle_x_1 = []\n",
        "\n",
        "# classify\n",
        "for i in range(400):\n",
        "  if data[i,2] == 1.:\n",
        "    triangle_x_0.append(data_activation[i,0])\n",
        "    triangle_x_1.append(data_activation[i,1])\n",
        "  else:\n",
        "    circle_x_0.append(data_activation[i,0])\n",
        "    circle_x_1.append(data_activation[i,1])\n",
        "\n",
        "# plot scatter\n",
        "plt.figure(figsize=(6,6))\n",
        "plt.scatter(triangle_x_0, triangle_x_1, marker='^')\n",
        "plt.scatter(circle_x_0, circle_x_1, marker='o')\n",
        "plt.show()"
      ],
      "execution_count": 4,
      "outputs": [
        {
          "output_type": "display_data",
          "data": {
            "image/png": "[encoded data removed]",
            "text/plain": [
              "<Figure size 432x432 with 1 Axes>"
            ]
          },
          "metadata": {
            "tags": [],
            "needs_background": "light"
          }
        }
      ]
    }
  ]
}