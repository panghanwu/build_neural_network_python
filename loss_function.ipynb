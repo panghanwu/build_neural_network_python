{
  "nbformat": 4,
  "nbformat_minor": 0,
  "metadata": {
    "colab": {
      "name": "loss_function.ipynb",
      "provenance": [],
      "authorship_tag": "ABX9TyMF2sxR/r0yoycQz4uwUhOu",
      "include_colab_link": true
    },
    "kernelspec": {
      "name": "python3",
      "display_name": "Python 3"
    }
  },
  "cells": [
    {
      "cell_type": "markdown",
      "metadata": {
        "id": "view-in-github",
        "colab_type": "text"
      },
      "source": [
        "<a href=\"https://colab.research.google.com/github/panghanwu/build_neural_network_python/blob/main/loss_function.ipynb\" target=\"_parent\"><img src=\"https://colab.research.google.com/assets/colab-badge.svg\" alt=\"Open In Colab\"/></a>"
      ]
    },
    {
      "cell_type": "markdown",
      "metadata": {
        "id": "S6eRlpUiVLvj"
      },
      "source": [
        "# Mean-Square Error (MSE)\n",
        "Regression problems  \n",
        "$E \\equiv \\dfrac{1}{2} \\displaystyle\\sum_{k=1}^{n} (y_{k}-t_{k})^2 $  \n",
        "  \n",
        "# Cross Entropy\n",
        "Classification, probability problems  \n",
        "$E \\equiv -\\displaystyle\\sum_{k=1}^{n} t_{k} \\times ln(y_{k}) $  \n"
      ]
    },
    {
      "cell_type": "code",
      "metadata": {
        "id": "35dYrkkIai2Q",
        "outputId": "290ca35d-57fd-4785-ddd1-d12a705551fb",
        "colab": {
          "base_uri": "https://localhost:8080/",
          "height": 315
        }
      },
      "source": [
        "import numpy as np\n",
        "import matplotlib.pyplot as plt\n",
        "\n",
        "# input data\n",
        "x_0 = np.arange(-1.0, 1.0, 0.2)\n",
        "x_1 = np.arange(-1.0, 1.0, 0.2)\n",
        "z = np.zeros(100)\n",
        "\n",
        "# correct answer\n",
        "t = np.ones(100)\n",
        "\n",
        "for i in range(10):\n",
        "  for j in range(10):\n",
        "    if x_0[i]+x_1[j] < 0:\n",
        "      t[i*10+j] = 0\n",
        "\n",
        "# parameter\n",
        "w_im = np.array([[12.0,6.0], \n",
        "          [6.0,6.0]])  # weight: input to middle\n",
        "w_mo = np.array([[1.0],\n",
        "          [-1.0]])  # weight: middle to output\n",
        "\n",
        "b_im = np.array([3.0,-3.0])  # bias: input to middle\n",
        "b_mo = np.array([0.1])  # bias: middle to output\n",
        "\n",
        "\n",
        "# define function\n",
        "def middle_layer(x, w, b):\n",
        "  u = np.dot(x, w) + b\n",
        "  return 1/(1+np.exp(-u))\n",
        "\n",
        "def output_layer(x, w, b):\n",
        "  u = np.dot(x, w) + b\n",
        "  return u\n",
        "# MSE\n",
        "def mean_square_sum(z, t):\n",
        "  return 1.0/2.0 * np.sum(np.square(z-t))\n",
        "# Cross Entropy\n",
        "def cross_entropy(z, t):\n",
        "  return - np.sum(t*np.log(z+1e-7))  # add 1e-7 to avoid z=0 error\n",
        "\n",
        "\n",
        "# implement neural network\n",
        "for i in range(10):\n",
        "  for j in range(10):\n",
        "    # generate input data\n",
        "    inp = np.array([x_0[i], x_1[j]])\n",
        "    # middle layer\n",
        "    mid = middle_layer(inp, w_im, b_im)\n",
        "    # output layer\n",
        "    out = output_layer(mid, w_mo, b_mo)\n",
        "    # outcome\n",
        "    z[i*10+j] = out[0]  # turn array to value\n",
        "\n",
        "# loss\n",
        "print('Mean-Square Error:', mean_square_sum(z, t))\n",
        "print('Cross Entropy:', cross_entropy(z, t))\n",
        "\n",
        "# plot\n",
        "plt.figure(figsize=(12,4))\n",
        "plt.subplot(1,2,1)\n",
        "plt.title('Answer')\n",
        "plt.imshow(t.reshape(10,10), 'gray', vmin=0.0, vmax=1.0)\n",
        "plt.colorbar()\n",
        "plt.subplot(1,2,2)\n",
        "plt.title('Result')\n",
        "plt.imshow(z.reshape(10,10), 'gray', vmin=0.0, vmax=1.0)\n",
        "plt.colorbar()\n",
        "plt.show()"
      ],
      "execution_count": 1,
      "outputs": [
        {
          "output_type": "stream",
          "text": [
            "Mean-Square Error: 16.294823344318793\n",
            "Cross Entropy: 35.99176326802635\n"
          ],
          "name": "stdout"
        },
        {
          "output_type": "display_data",
          "data": {
            "image/png": "[encoded data removed]",
            "text/plain": [
              "<Figure size 864x288 with 4 Axes>"
            ]
          },
          "metadata": {
            "tags": [],
            "needs_background": "light"
          }
        }
      ]
    },
    {
      "cell_type": "markdown",
      "metadata": {
        "id": "EFaPsgVJp_0K"
      },
      "source": [
        "### Slope of cross entropy is steeper than MSE in [0,1], so cross entropy is a better choice for probability problems."
      ]
    },
    {
      "cell_type": "code",
      "metadata": {
        "id": "knihqmuEnCfT",
        "outputId": "be2ae8ed-fad9-4738-acb9-627cf72b0f58",
        "colab": {
          "base_uri": "https://localhost:8080/",
          "height": 500
        }
      },
      "source": [
        "z = np.arange(0.01,1.01,0.01)\n",
        "\n",
        "plt.figure(figsize=(8,8))\n",
        "plt.plot(z, (z-1)**2)\n",
        "plt.plot(z, -np.log(z+1e-7))"
      ],
      "execution_count": 2,
      "outputs": [
        {
          "output_type": "execute_result",
          "data": {
            "text/plain": [
              "[<matplotlib.lines.Line2D at 0x7f99168a4f28>]"
            ]
          },
          "metadata": {
            "tags": []
          },
          "execution_count": 2
        },
        {
          "output_type": "display_data",
          "data": {
            "image/png": "[encoded data removed]",
            "text/plain": [
              "<Figure size 576x576 with 1 Axes>"
            ]
          },
          "metadata": {
            "tags": [],
            "needs_background": "light"
          }
        }
      ]
    }
  ]
}