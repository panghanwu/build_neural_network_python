{
  "nbformat": 4,
  "nbformat_minor": 0,
  "metadata": {
    "colab": {
      "name": "MLP_experiment.ipynb",
      "provenance": [],
      "collapsed_sections": [],
      "authorship_tag": "ABX9TyOxLGbb4mObf/nDtMLTDs6m",
      "include_colab_link": true
    },
    "kernelspec": {
      "name": "python3",
      "display_name": "Python 3"
    }
  },
  "cells": [
    {
      "cell_type": "markdown",
      "metadata": {
        "id": "view-in-github",
        "colab_type": "text"
      },
      "source": [
        "<a href=\"https://colab.research.google.com/github/panghanwu/build_neural_network_python/blob/main/MLP_experiment.ipynb\" target=\"_parent\"><img src=\"https://colab.research.google.com/assets/colab-badge.svg\" alt=\"Open In Colab\"/></a>"
      ]
    },
    {
      "cell_type": "code",
      "metadata": {
        "id": "3RxIK74VaO6b",
        "outputId": "ffb30b0f-525c-459a-a554-a61c14eb3923",
        "colab": {
          "base_uri": "https://localhost:8080/",
          "height": 282
        }
      },
      "source": [
        "import numpy as np\n",
        "import matplotlib.pyplot as plt\n",
        "\n",
        "\"\"\"Initializing\"\"\"\n",
        "# data\n",
        "x = np.arange(0, np.pi*2, 0.1)  # input data\n",
        "t = np.sin(x)  # correct answer\n",
        "\n",
        "# parameter\n",
        "n_data = len(x)\n",
        "wb_shrinker = 0.01 #  initialize\n",
        "eta = 0.1  # learning rate\n",
        "\n",
        "# initial \n",
        "w1 = wb_shrinker * np.random.randn(1,3)\n",
        "b1 = wb_shrinker * np.random.randn(3)\n",
        "w2 = wb_shrinker * np.random.randn(3,1)\n",
        "b2 = wb_shrinker * np.random.randn(1)\n",
        "\n",
        "y = []\n",
        "u1 = np.dot(x.reshape(-1,1), w1) + b1\n",
        "y1 = 1/(1+np.exp(-u1))\n",
        "y = np.dot(y1, w2) + b2\n",
        "\n",
        "plt.plot(x, t, 'r--')\n",
        "plt.scatter(x, y, marker='+')"
      ],
      "execution_count": 1,
      "outputs": [
        {
          "output_type": "execute_result",
          "data": {
            "text/plain": [
              "<matplotlib.collections.PathCollection at 0x7f96251b2ef0>"
            ]
          },
          "metadata": {
            "tags": []
          },
          "execution_count": 1
        },
        {
          "output_type": "display_data",
          "data": {
            "image/png": "[encoded data removed]",
            "text/plain": [
              "<Figure size 432x288 with 1 Axes>"
            ]
          },
          "metadata": {
            "tags": [],
            "needs_background": "light"
          }
        }
      ]
    },
    {
      "cell_type": "code",
      "metadata": {
        "id": "vRFlkpnGXVMj",
        "outputId": "fa73fa0f-44e4-49a9-d05f-9d36f8db5813",
        "colab": {
          "base_uri": "https://localhost:8080/",
          "height": 299
        }
      },
      "source": [
        "\"\"\"Training with single data\"\"\"\n",
        "y = []\n",
        "total_error = 0\n",
        "for i in range(n_data):\n",
        "  # forward\n",
        "  u1 = np.dot(x[i].reshape(-1,1), w1) + b1\n",
        "  y1 = 1/(1+np.exp(-u1))\n",
        "  y2 = np.dot(y1, w2) + b2\n",
        "\n",
        "  # backward\n",
        "  delta2 = y2 - t[i].reshape(-1,1)\n",
        "  grad_w2 = np.dot(y1.T, delta2)\n",
        "  grad_b2 = np.sum(delta2, axis=0)\n",
        "  grad_y1 = np.dot(delta2, w2.T)\n",
        "  delta1 = grad_y1 * (1-y1) * y1\n",
        "  grad_w1 = np.dot(x[i].reshape(-1,1).T, delta1)\n",
        "  grad_b1 = np.sum(delta1, axis=0)\n",
        "\n",
        "  # update\n",
        "  w1 -= eta * grad_w1\n",
        "  b1 -= eta * grad_b1\n",
        "  w2 -= eta * grad_w2\n",
        "  b2 -= eta * grad_b2\n",
        "\n",
        "  y.append(float(y2))\n",
        "  total_error += 1.0/2.0*np.sum(np.square(y2-t))\n",
        "\n",
        "print('Loss:' + str(total_error))\n",
        "plt.plot(x, t, 'r--')\n",
        "plt.scatter(x, y, marker='+')"
      ],
      "execution_count": 2,
      "outputs": [
        {
          "output_type": "stream",
          "text": [
            "Loss:1780.451217531303\n"
          ],
          "name": "stdout"
        },
        {
          "output_type": "execute_result",
          "data": {
            "text/plain": [
              "<matplotlib.collections.PathCollection at 0x7f96251047b8>"
            ]
          },
          "metadata": {
            "tags": []
          },
          "execution_count": 2
        },
        {
          "output_type": "display_data",
          "data": {
            "image/png": "[encoded data removed]",
            "text/plain": [
              "<Figure size 432x288 with 1 Axes>"
            ]
          },
          "metadata": {
            "tags": [],
            "needs_background": "light"
          }
        }
      ]
    },
    {
      "cell_type": "code",
      "metadata": {
        "id": "vQrLzCECbkRT",
        "outputId": "85185a84-81b2-4621-9f63-c0a387c8520b",
        "colab": {
          "base_uri": "https://localhost:8080/",
          "height": 299
        }
      },
      "source": [
        "\"\"\"Training with whole data\"\"\"\n",
        "# forward\n",
        "u1 = np.dot(x.reshape(-1,1), w1) + b1\n",
        "y1 = 1/(1+np.exp(-u1))\n",
        "y = np.dot(y1, w2) + b2\n",
        "\n",
        "# backward\n",
        "delta2 = y2 - t.reshape(-1,1)\n",
        "grad_w2 = np.dot(y1.T, delta2)\n",
        "grad_b2 = np.sum(delta2, axis=0)\n",
        "grad_y1 = np.dot(delta2, w2.T)\n",
        "delta1 = grad_y1 * (1-y1) * y1\n",
        "grad_w1 = np.dot(x.reshape(-1,1).T, delta1)\n",
        "grad_b1 = np.sum(delta1, axis=0)\n",
        "\n",
        "# update\n",
        "w1 -= eta * grad_w1\n",
        "b1 -= eta * grad_b1\n",
        "w2 -= eta * grad_w2\n",
        "b2 -= eta * grad_b2\n",
        "\n",
        "total_error += 1.0/2.0*np.sum(np.square(y-t))\n",
        "\n",
        "print('Loss:' + str(total_error))\n",
        "\n",
        "plt.plot(x, t, 'r--')\n",
        "plt.scatter(x, y, marker='+')"
      ],
      "execution_count": 3,
      "outputs": [
        {
          "output_type": "stream",
          "text": [
            "Loss:3128.8564877370836\n"
          ],
          "name": "stdout"
        },
        {
          "output_type": "execute_result",
          "data": {
            "text/plain": [
              "<matplotlib.collections.PathCollection at 0x7f9625104dd8>"
            ]
          },
          "metadata": {
            "tags": []
          },
          "execution_count": 3
        },
        {
          "output_type": "display_data",
          "data": {
            "image/png": "[encoded data removed]",
            "text/plain": [
              "<Figure size 432x288 with 1 Axes>"
            ]
          },
          "metadata": {
            "tags": [],
            "needs_background": "light"
          }
        }
      ]
    },
    {
      "cell_type": "code",
      "metadata": {
        "id": "cX5sRUofvlz5",
        "outputId": "50371f6d-9b9b-437f-d0a4-97b6516132fc",
        "colab": {
          "base_uri": "https://localhost:8080/",
          "height": 300
        }
      },
      "source": [
        "\"\"\"Training with adjustabale batch size\"\"\"\n",
        "# batch\n",
        "bs = 3  # batch size\n",
        "batch_number = int(n_data/bs) + 1\n",
        "x_ = np.append(x, x)\n",
        "t_ = np.append(t, t)\n",
        "batch_x = []\n",
        "batch_t = []\n",
        "for i in range(batch_number):\n",
        "  batch_x.append(x_[bs*i:bs*i+bs])\n",
        "  batch_t.append(t_[bs*i:bs*i+bs])\n",
        "\n",
        "# training\n",
        "y = np.array([])\n",
        "total_error = 0\n",
        "for i in range(batch_number):\n",
        "  # forward\n",
        "  u1 = np.dot(batch_x[i].reshape(-1,1), w1) + b1\n",
        "  y1 = 1/(1+np.exp(-u1))\n",
        "  y2 = np.dot(y1, w2) + b2\n",
        "\n",
        "  # backward\n",
        "  delta2 = y2 - batch_t[i].reshape(-1,1)\n",
        "  grad_w2 = np.dot(y1.T, delta2)\n",
        "  grad_b2 = np.sum(delta2, axis=0)\n",
        "  grad_y1 = np.dot(delta2, w2.T)\n",
        "  delta1 = grad_y1 * (1-y1) * y1\n",
        "  grad_w1 = np.dot(batch_x[i].reshape(-1,1).T, delta1)\n",
        "  grad_b1 = np.sum(delta1, axis=0)\n",
        "\n",
        "  # update\n",
        "  w1 -= eta * grad_w1\n",
        "  b1 -= eta * grad_b1\n",
        "  w2 -= eta * grad_w2\n",
        "  b2 -= eta * grad_b2\n",
        "\n",
        "  y = np.append(y, y2)\n",
        "  total_error += 1.0/2.0*np.sum(np.square(y2-t))\n",
        "\n",
        "print('Loss:' + str(total_error))\n",
        "plt.plot(x, t, 'r--')\n",
        "plt.scatter(x, y[:n_data], marker='+')"
      ],
      "execution_count": 4,
      "outputs": [
        {
          "output_type": "stream",
          "text": [
            "Loss:4735.74830462264\n"
          ],
          "name": "stdout"
        },
        {
          "output_type": "execute_result",
          "data": {
            "text/plain": [
              "<matplotlib.collections.PathCollection at 0x7f9624b9f7b8>"
            ]
          },
          "metadata": {
            "tags": []
          },
          "execution_count": 4
        },
        {
          "output_type": "display_data",
          "data": {
            "image/png": "[encoded data removed]",
            "text/plain": [
              "<Figure size 432x288 with 1 Axes>"
            ]
          },
          "metadata": {
            "tags": [],
            "needs_background": "light"
          }
        }
      ]
    },
    {
      "cell_type": "code",
      "metadata": {
        "id": "CFlZ7bQZ9gAJ",
        "outputId": "106c84b0-fd36-4464-eede-6472f163a736",
        "colab": {
          "base_uri": "https://localhost:8080/",
          "height": 299
        }
      },
      "source": [
        "\"\"\"Training randomly\"\"\"\n",
        "epoch = 10000\n",
        "for i in range(epoch):\n",
        "  # batch\n",
        "  bs = 8  # batch size\n",
        "  batch_number = int(n_data/bs) + 1\n",
        "  x_ = np.append(x, x)\n",
        "  t_ = np.append(t, t)\n",
        "\n",
        "  ridx = np.arange(len(x_))\n",
        "  np.random.shuffle(ridx)\n",
        "\n",
        "  batch_x = []\n",
        "  batch_t = []\n",
        "  for i in range(batch_number):\n",
        "    x_temp = np.array([])\n",
        "    t_temp = np.array([])\n",
        "    for j in range(bs):\n",
        "      x_temp = np.append(x_temp, x_[ridx[bs*i+j]])\n",
        "      t_temp = np.append(t_temp, t_[ridx[bs*i+j]])\n",
        "    batch_x.append(x_temp)\n",
        "    batch_t.append(t_temp)\n",
        "\n",
        "  index_random = np.arange(batch_number)\n",
        "  np.random.shuffle(index_random)\n",
        "\n",
        "  # training\n",
        "  y = np.array([])\n",
        "\n",
        "  for i in index_random:\n",
        "    # forward\n",
        "    u1 = np.dot(batch_x[i].reshape(-1,1), w1) + b1\n",
        "    y1 = 1/(1+np.exp(-u1))\n",
        "    y2 = np.dot(y1, w2) + b2\n",
        "\n",
        "    # backward\n",
        "    delta2 = y2 - batch_t[i].reshape(-1,1)\n",
        "    grad_w2 = np.dot(y1.T, delta2)\n",
        "    grad_b2 = np.sum(delta2, axis=0)\n",
        "    grad_y1 = np.dot(delta2, w2.T)\n",
        "    delta1 = grad_y1 * (1-y1) * y1\n",
        "    grad_w1 = np.dot(batch_x[i].reshape(-1,1).T, delta1)\n",
        "    grad_b1 = np.sum(delta1, axis=0)\n",
        "\n",
        "    # update\n",
        "    w1 -= eta * grad_w1\n",
        "    b1 -= eta * grad_b1\n",
        "    w2 -= eta * grad_w2\n",
        "    b2 -= eta * grad_b2\n",
        "\n",
        "    y = np.append(y, y2)\n",
        "    \n",
        "\n",
        "# result\n",
        "u1 = np.dot(x.reshape(-1,1), w1) + b1\n",
        "y1 = 1/(1+np.exp(-u1))\n",
        "y = np.dot(y1, w2) + b2\n",
        "total_error = 1.0/2.0*np.sum(np.square(y-t))/n_data\n",
        "\n",
        "print('Error:' + str(total_error))\n",
        "plt.plot(x, t, 'r--')\n",
        "plt.scatter(x, y.reshape(-1), marker='+')"
      ],
      "execution_count": 5,
      "outputs": [
        {
          "output_type": "stream",
          "text": [
            "Error:31.617197720677936\n"
          ],
          "name": "stdout"
        },
        {
          "output_type": "execute_result",
          "data": {
            "text/plain": [
              "<matplotlib.collections.PathCollection at 0x7f9624b9a240>"
            ]
          },
          "metadata": {
            "tags": []
          },
          "execution_count": 5
        },
        {
          "output_type": "display_data",
          "data": {
            "image/png": "[encoded data removed]",
            "text/plain": [
              "<Figure size 432x288 with 1 Axes>"
            ]
          },
          "metadata": {
            "tags": [],
            "needs_background": "light"
          }
        }
      ]
    }
  ]
}