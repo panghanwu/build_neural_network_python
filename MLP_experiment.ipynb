{
  "nbformat": 4,
  "nbformat_minor": 0,
  "metadata": {
    "colab": {
      "name": "MLP_experiment.ipynb",
      "provenance": [],
      "collapsed_sections": [],
      "authorship_tag": "ABX9TyOFDtiQi+R/nJIpaKJ7KG05",
      "include_colab_link": true
    },
    "kernelspec": {
      "name": "python3",
      "display_name": "Python 3"
    }
  },
  "cells": [
    {
      "cell_type": "markdown",
      "metadata": {
        "id": "view-in-github",
        "colab_type": "text"
      },
      "source": [
        "<a href=\"https://colab.research.google.com/github/panghanwu/neural_network_algorithm/blob/main/MLP_experiment.ipynb\" target=\"_parent\"><img src=\"https://colab.research.google.com/assets/colab-badge.svg\" alt=\"Open In Colab\"/></a>"
      ]
    },
    {
      "cell_type": "code",
      "metadata": {
        "id": "3RxIK74VaO6b",
        "outputId": "eea47bd9-9d70-48b2-ad3f-90265d23be08",
        "colab": {
          "base_uri": "https://localhost:8080/",
          "height": 283
        }
      },
      "source": [
        "import numpy as np\n",
        "import matplotlib.pyplot as plt\n",
        "\n",
        "\"\"\"Initializing\"\"\"\n",
        "# data\n",
        "x = np.arange(0, np.pi*2, 0.1)  # input data\n",
        "t = np.sin(x)  # correct answer\n",
        "\n",
        "# parameter\n",
        "n_data = len(x)\n",
        "wb_shrinker = 0.01 #  initialize\n",
        "eta = 0.1  # learning rate\n",
        "\n",
        "# initial \n",
        "w1 = wb_shrinker * np.random.randn(1,3)\n",
        "b1 = wb_shrinker * np.random.randn(3)\n",
        "w2 = wb_shrinker * np.random.randn(3,1)\n",
        "b2 = wb_shrinker * np.random.randn(1)\n",
        "\n",
        "# forward\n",
        "u1 = np.dot(x.reshape(-1,1), w1) + b1\n",
        "y1 = 1/(1+np.exp(-u1))\n",
        "y2 = np.dot(y1, w2) + b2\n",
        "\n",
        "init_loss = np.sum(np.square(y2.reshape(-1)-t))/2.0\n",
        "print('Initial loss:', init_loss)\n",
        "\n",
        "plt.plot(x, t, 'r--')\n",
        "plt.scatter(x, y2, marker='+')\n",
        "plt.show()"
      ],
      "execution_count": 7,
      "outputs": [
        {
          "output_type": "stream",
          "text": [
            "Initial loss: 15.712728443641241\n"
          ],
          "name": "stdout"
        },
        {
          "output_type": "display_data",
          "data": {
            "image/png": "[encoded data removed]",
            "text/plain": [
              "<Figure size 432x288 with 1 Axes>"
            ]
          },
          "metadata": {
            "tags": [],
            "needs_background": "light"
          }
        }
      ]
    },
    {
      "cell_type": "code",
      "metadata": {
        "id": "vRFlkpnGXVMj",
        "outputId": "90014109-6fb4-4e98-b38c-c0797b0223c1",
        "colab": {
          "base_uri": "https://localhost:8080/",
          "height": 301
        }
      },
      "source": [
        "\"\"\"Training with single data\"\"\"\n",
        "\n",
        "epoch = 100\n",
        "for e in range(epoch):\n",
        "  for i in range(n_data):\n",
        "    # forward\n",
        "    u1 = np.dot(x[i].reshape(-1,1), w1) + b1\n",
        "    y1 = 1/(1+np.exp(-u1))\n",
        "    y2 = np.dot(y1, w2) + b2\n",
        "\n",
        "    # backward\n",
        "    delta2 = y2 - t[i].reshape(-1,1)\n",
        "    grad_w2 = np.dot(y1.T, delta2)\n",
        "    grad_b2 = np.sum(delta2, axis=0)\n",
        "    grad_y1 = np.dot(delta2, w2.T)\n",
        "    delta1 = grad_y1 * (1-y1) * y1\n",
        "    grad_w1 = np.dot(x[i].reshape(-1,1).T, delta1)\n",
        "    grad_b1 = np.sum(delta1, axis=0)\n",
        "\n",
        "    # update\n",
        "    w1 -= eta * grad_w1\n",
        "    b1 -= eta * grad_b1\n",
        "    w2 -= eta * grad_w2\n",
        "    b2 -= eta * grad_b2\n",
        "\n",
        "\n",
        "# result\n",
        "u1 = np.dot(x.reshape(-1,1), w1) + b1\n",
        "y1 = 1/(1+np.exp(-u1))\n",
        "y2 = np.dot(y1, w2) + b2\n",
        "\n",
        "loss = np.sum(np.square(y2.reshape(-1)-t))/2.0\n",
        "print('Loss:', loss)\n",
        "print('Improvement:', init_loss/loss)\n",
        "\n",
        "plt.plot(x, t, 'r--')\n",
        "plt.scatter(x, y2, marker='+')\n",
        "plt.show()"
      ],
      "execution_count": 2,
      "outputs": [
        {
          "output_type": "stream",
          "text": [
            "Loss: 5.104361890807019\n",
            "Improvement: 3.079250494838782\n"
          ],
          "name": "stdout"
        },
        {
          "output_type": "display_data",
          "data": {
            "image/png": "[encoded data removed]",
            "text/plain": [
              "<Figure size 432x288 with 1 Axes>"
            ]
          },
          "metadata": {
            "tags": [],
            "needs_background": "light"
          }
        }
      ]
    },
    {
      "cell_type": "code",
      "metadata": {
        "id": "vQrLzCECbkRT",
        "outputId": "13ed12e4-3662-4ae3-8bde-4aa81c87ace9",
        "colab": {
          "base_uri": "https://localhost:8080/",
          "height": 301
        }
      },
      "source": [
        "\"\"\"Training with whole data\"\"\"\n",
        "\n",
        "epoch = 100\n",
        "for e in range(epoch):\n",
        "  # forward\n",
        "  u1 = np.dot(x.reshape(-1,1), w1) + b1\n",
        "  y1 = 1/(1+np.exp(-u1))\n",
        "  y2 = np.dot(y1, w2) + b2\n",
        "\n",
        "  # backward\n",
        "  delta2 = y2 - t.reshape(-1,1)\n",
        "  grad_w2 = np.dot(y1.T, delta2) / n_data\n",
        "  grad_b2 = np.sum(delta2, axis=0) / n_data\n",
        "  grad_y1 = np.dot(delta2, w2.T)\n",
        "  delta1 = grad_y1 * (1-y1) * y1\n",
        "  grad_w1 = np.dot(x.reshape(-1,1).T, delta1) / n_data\n",
        "  grad_b1 = np.sum(delta1, axis=0) / n_data\n",
        "\n",
        "  # update\n",
        "  w1 -= eta * grad_w1\n",
        "  b1 -= eta * grad_b1\n",
        "  w2 -= eta * grad_w2\n",
        "  b2 -= eta * grad_b2\n",
        "\n",
        "# result\n",
        "u1 = np.dot(x.reshape(-1,1), w1) + b1\n",
        "y1 = 1/(1+np.exp(-u1))\n",
        "y2 = np.dot(y1, w2) + b2\n",
        "\n",
        "loss = np.sum(np.square(y2.reshape(-1)-t))/2.0\n",
        "print('Loss:', loss)\n",
        "print('Improvement:', init_loss/loss)\n",
        "\n",
        "plt.plot(x, t, 'r--')\n",
        "plt.scatter(x, y2, marker='+')\n",
        "plt.show()"
      ],
      "execution_count": 4,
      "outputs": [
        {
          "output_type": "stream",
          "text": [
            "Loss: 15.570519609416202\n",
            "Improvement: 1.0087224343642132\n"
          ],
          "name": "stdout"
        },
        {
          "output_type": "display_data",
          "data": {
            "image/png": "[encoded data removed]",
            "text/plain": [
              "<Figure size 432x288 with 1 Axes>"
            ]
          },
          "metadata": {
            "tags": [],
            "needs_background": "light"
          }
        }
      ]
    },
    {
      "cell_type": "code",
      "metadata": {
        "id": "cX5sRUofvlz5",
        "outputId": "c0c2699b-84aa-4f97-a13a-ad9d5d1b1520",
        "colab": {
          "base_uri": "https://localhost:8080/",
          "height": 301
        }
      },
      "source": [
        "\"\"\"Training with adjustabale batch size\"\"\"\n",
        "# batch\n",
        "bs = 3  # batch size\n",
        "batch_number = int(n_data/bs) + 1\n",
        "\n",
        "epoch = 100\n",
        "for e in range(epoch):\n",
        "  x_ = np.append(x, x)\n",
        "  t_ = np.append(t, t)\n",
        "  batch_x = []\n",
        "  batch_t = []\n",
        "  for i in range(batch_number):\n",
        "    batch_x.append(x_[bs*i:bs*i+bs])\n",
        "    batch_t.append(t_[bs*i:bs*i+bs])\n",
        "\n",
        "  # training\n",
        "\n",
        "  total_error = 0\n",
        "  for i in range(batch_number):\n",
        "    # forward\n",
        "    u1 = np.dot(batch_x[i].reshape(-1,1), w1) + b1\n",
        "    y1 = 1/(1+np.exp(-u1))\n",
        "    y2 = np.dot(y1, w2) + b2\n",
        "\n",
        "    # backward\n",
        "    delta2 = y2 - batch_t[i].reshape(-1,1)\n",
        "    grad_w2 = np.dot(y1.T, delta2)\n",
        "    grad_b2 = np.sum(delta2, axis=0)\n",
        "    grad_y1 = np.dot(delta2, w2.T)\n",
        "    delta1 = grad_y1 * (1-y1) * y1\n",
        "    grad_w1 = np.dot(batch_x[i].reshape(-1,1).T, delta1)\n",
        "    grad_b1 = np.sum(delta1, axis=0)\n",
        "\n",
        "    # update\n",
        "    w1 -= eta * grad_w1\n",
        "    b1 -= eta * grad_b1\n",
        "    w2 -= eta * grad_w2\n",
        "    b2 -= eta * grad_b2\n",
        "\n",
        "# result\n",
        "u1 = np.dot(x.reshape(-1,1), w1) + b1\n",
        "y1 = 1/(1+np.exp(-u1))\n",
        "y2 = np.dot(y1, w2) + b2\n",
        "\n",
        "loss = np.sum(np.square(y2.reshape(-1)-t))/2.0\n",
        "print('Loss:', loss)\n",
        "print('Improvement:', init_loss/loss)\n",
        "\n",
        "plt.plot(x, t, 'r--')\n",
        "plt.scatter(x, y2, marker='+')\n",
        "plt.show()"
      ],
      "execution_count": 6,
      "outputs": [
        {
          "output_type": "stream",
          "text": [
            "Loss: 6.976237357944189\n",
            "Improvement: 2.2519310236548935\n"
          ],
          "name": "stdout"
        },
        {
          "output_type": "display_data",
          "data": {
            "image/png": "[encoded data removed]",
            "text/plain": [
              "<Figure size 432x288 with 1 Axes>"
            ]
          },
          "metadata": {
            "tags": [],
            "needs_background": "light"
          }
        }
      ]
    },
    {
      "cell_type": "code",
      "metadata": {
        "id": "CFlZ7bQZ9gAJ",
        "outputId": "a6e0c27a-8845-46a6-f0ec-add3bc3219b7",
        "colab": {
          "base_uri": "https://localhost:8080/",
          "height": 301
        }
      },
      "source": [
        "\"\"\"Training randomly\"\"\"\n",
        "epoch = 100\n",
        "for i in range(epoch):\n",
        "  # batch\n",
        "  bs = 3  # batch size\n",
        "  batch_number = int(n_data/bs) + 1\n",
        "  x_ = np.append(x, x)\n",
        "  t_ = np.append(t, t)\n",
        "\n",
        "  ridx = np.arange(len(x_))\n",
        "  np.random.shuffle(ridx)\n",
        "\n",
        "  batch_x = []\n",
        "  batch_t = []\n",
        "  for i in range(batch_number):\n",
        "    x_temp = np.array([])\n",
        "    t_temp = np.array([])\n",
        "    for j in range(bs):\n",
        "      x_temp = np.append(x_temp, x_[ridx[bs*i+j]])\n",
        "      t_temp = np.append(t_temp, t_[ridx[bs*i+j]])\n",
        "    batch_x.append(x_temp)\n",
        "    batch_t.append(t_temp)\n",
        "\n",
        "  index_random = np.arange(batch_number)\n",
        "  np.random.shuffle(index_random)\n",
        "\n",
        "  # training\n",
        "  y = np.array([])\n",
        "\n",
        "  for i in index_random:\n",
        "    # forward\n",
        "    u1 = np.dot(batch_x[i].reshape(-1,1), w1) + b1\n",
        "    y1 = 1/(1+np.exp(-u1))\n",
        "    y2 = np.dot(y1, w2) + b2\n",
        "\n",
        "    # backward\n",
        "    delta2 = y2 - batch_t[i].reshape(-1,1)\n",
        "    grad_w2 = np.dot(y1.T, delta2)\n",
        "    grad_b2 = np.sum(delta2, axis=0)\n",
        "    grad_y1 = np.dot(delta2, w2.T)\n",
        "    delta1 = grad_y1 * (1-y1) * y1\n",
        "    grad_w1 = np.dot(batch_x[i].reshape(-1,1).T, delta1)\n",
        "    grad_b1 = np.sum(delta1, axis=0)\n",
        "\n",
        "    # update\n",
        "    w1 -= eta * grad_w1\n",
        "    b1 -= eta * grad_b1\n",
        "    w2 -= eta * grad_w2\n",
        "    b2 -= eta * grad_b2\n",
        "\n",
        "    y = np.append(y, y2)\n",
        "    \n",
        "\n",
        "# result\n",
        "u1 = np.dot(x.reshape(-1,1), w1) + b1\n",
        "y1 = 1/(1+np.exp(-u1))\n",
        "y2 = np.dot(y1, w2) + b2\n",
        "\n",
        "loss = np.sum(np.square(y2.reshape(-1)-t))/2.0\n",
        "print('Loss:', loss)\n",
        "print('Improvement:', init_loss/loss)\n",
        "\n",
        "plt.plot(x, t, 'r--')\n",
        "plt.scatter(x, y2, marker='+')\n",
        "plt.show()"
      ],
      "execution_count": 8,
      "outputs": [
        {
          "output_type": "stream",
          "text": [
            "Loss: 1.3484442407890835\n",
            "Improvement: 11.652486597774674\n"
          ],
          "name": "stdout"
        },
        {
          "output_type": "display_data",
          "data": {
            "image/png": "[encoded data removed]",
            "text/plain": [
              "<Figure size 432x288 with 1 Axes>"
            ]
          },
          "metadata": {
            "tags": [],
            "needs_background": "light"
          }
        }
      ]
    }
  ]
}