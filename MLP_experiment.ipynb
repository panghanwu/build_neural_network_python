{
  "nbformat": 4,
  "nbformat_minor": 0,
  "metadata": {
    "colab": {
      "name": "MLP_experiment.ipynb",
      "provenance": [],
      "authorship_tag": "ABX9TyOaDxu0slA7uYtyPmm0vtvc",
      "include_colab_link": true
    },
    "kernelspec": {
      "name": "python3",
      "display_name": "Python 3"
    }
  },
  "cells": [
    {
      "cell_type": "markdown",
      "metadata": {
        "id": "view-in-github",
        "colab_type": "text"
      },
      "source": [
        "<a href=\"https://colab.research.google.com/github/panghanwu/build_neural_network_python/blob/main/MLP_experiment.ipynb\" target=\"_parent\"><img src=\"https://colab.research.google.com/assets/colab-badge.svg\" alt=\"Open In Colab\"/></a>"
      ]
    },
    {
      "cell_type": "code",
      "metadata": {
        "id": "3RxIK74VaO6b",
        "outputId": "b79d8445-b853-4faf-fdde-b39328f51b51",
        "colab": {
          "base_uri": "https://localhost:8080/",
          "height": 282
        }
      },
      "source": [
        "import numpy as np\n",
        "import matplotlib.pyplot as plt\n",
        "\n",
        "\"\"\"Initializing\"\"\"\n",
        "# data\n",
        "x = np.arange(0, np.pi*2, 0.1)  # input data\n",
        "t = np.sin(x)  # correct answer\n",
        "\n",
        "# parameter\n",
        "n_data = len(x)\n",
        "wb_shrinker = 0.01 #  initialize\n",
        "eta = 0.1  # learning rate\n",
        "\n",
        "# initial \n",
        "w1 = wb_shrinker * np.random.randn(1,3)\n",
        "b1 = wb_shrinker * np.random.randn(3)\n",
        "w2 = wb_shrinker * np.random.randn(3,1)\n",
        "b2 = wb_shrinker * np.random.randn(1)\n",
        "\n",
        "y = []\n",
        "u1 = np.dot(x.reshape(-1,1), w1) + b1\n",
        "y1 = 1/(1+np.exp(-u1))\n",
        "y = np.dot(y1, w2) + b2\n",
        "\n",
        "plt.plot(x, t, 'r--')\n",
        "plt.scatter(x, y, marker='+')"
      ],
      "execution_count": 1,
      "outputs": [
        {
          "output_type": "execute_result",
          "data": {
            "text/plain": [
              "<matplotlib.collections.PathCollection at 0x7fd84c261eb8>"
            ]
          },
          "metadata": {
            "tags": []
          },
          "execution_count": 1
        },
        {
          "output_type": "display_data",
          "data": {
            "image/png": "[encoded data removed]",
            "text/plain": [
              "<Figure size 432x288 with 1 Axes>"
            ]
          },
          "metadata": {
            "tags": [],
            "needs_background": "light"
          }
        }
      ]
    },
    {
      "cell_type": "code",
      "metadata": {
        "id": "vRFlkpnGXVMj",
        "outputId": "a7a4eb31-6c69-4159-c0a3-8ce4360e1956",
        "colab": {
          "base_uri": "https://localhost:8080/",
          "height": 282
        }
      },
      "source": [
        "\"\"\"Training with single data\"\"\"\n",
        "y = []\n",
        "for i in range(n_data):\n",
        "  # forward\n",
        "  u1 = np.dot(x[i].reshape(-1,1), w1) + b1\n",
        "  y1 = 1/(1+np.exp(-u1))\n",
        "  y2 = np.dot(y1, w2) + b2\n",
        "\n",
        "  # backward\n",
        "  delta2 = y2 - t[i].reshape(-1,1)\n",
        "  grad_w2 = np.dot(y1.T, delta2)\n",
        "  grad_b2 = np.sum(delta2, axis=0)\n",
        "  grad_y1 = np.dot(delta2, w2.T)\n",
        "  delta1 = grad_y1 * (1-y1) * y1\n",
        "  grad_w1 = np.dot(x[i].reshape(-1,1).T, delta1)\n",
        "  grad_b1 = np.sum(delta1, axis=0)\n",
        "\n",
        "  # update\n",
        "  w1 -= eta * grad_w1\n",
        "  b1 -= eta * grad_b1\n",
        "  w2 -= eta * grad_w2\n",
        "  b2 -= eta * grad_b2\n",
        "\n",
        "  y.append(float(y2))\n",
        "\n",
        "plt.plot(x, t, 'r--')\n",
        "plt.scatter(x, y, marker='+')"
      ],
      "execution_count": 5,
      "outputs": [
        {
          "output_type": "execute_result",
          "data": {
            "text/plain": [
              "<matplotlib.collections.PathCollection at 0x7fd84bbd55f8>"
            ]
          },
          "metadata": {
            "tags": []
          },
          "execution_count": 5
        },
        {
          "output_type": "display_data",
          "data": {
            "image/png": "[encoded data removed]",
            "text/plain": [
              "<Figure size 432x288 with 1 Axes>"
            ]
          },
          "metadata": {
            "tags": [],
            "needs_background": "light"
          }
        }
      ]
    },
    {
      "cell_type": "code",
      "metadata": {
        "id": "vQrLzCECbkRT",
        "outputId": "2195fa13-6c92-4a05-eb26-bc05df188407",
        "colab": {
          "base_uri": "https://localhost:8080/",
          "height": 284
        }
      },
      "source": [
        "\"\"\"Training with whole data\"\"\"\n",
        "# forward\n",
        "u1 = np.dot(x.reshape(-1,1), w1) + b1\n",
        "y1 = 1/(1+np.exp(-u1))\n",
        "y = np.dot(y1, w2) + b2\n",
        "\n",
        "# backward\n",
        "delta2 = y2 - t.reshape(-1,1)\n",
        "grad_w2 = np.dot(y1.T, delta2)\n",
        "grad_b2 = np.sum(delta2, axis=0)\n",
        "grad_y1 = np.dot(delta2, w2.T)\n",
        "delta1 = grad_y1 * (1-y1) * y1\n",
        "grad_w1 = np.dot(x.reshape(-1,1).T, delta1)\n",
        "grad_b1 = np.sum(delta1, axis=0)\n",
        "\n",
        "# update\n",
        "w1 -= eta * grad_w1\n",
        "b1 -= eta * grad_b1\n",
        "w2 -= eta * grad_w2\n",
        "b2 -= eta * grad_b2\n",
        "\n",
        "plt.plot(x, t, 'r--')\n",
        "plt.scatter(x, y, marker='+')"
      ],
      "execution_count": 7,
      "outputs": [
        {
          "output_type": "execute_result",
          "data": {
            "text/plain": [
              "<matplotlib.collections.PathCollection at 0x7fd84bbd5be0>"
            ]
          },
          "metadata": {
            "tags": []
          },
          "execution_count": 7
        },
        {
          "output_type": "display_data",
          "data": {
            "image/png": "[encoded data removed]",
            "text/plain": [
              "<Figure size 432x288 with 1 Axes>"
            ]
          },
          "metadata": {
            "tags": [],
            "needs_background": "light"
          }
        }
      ]
    }
  ]
}